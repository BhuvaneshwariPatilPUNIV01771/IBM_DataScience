{
  "cells": [
    {
      "cell_type": "markdown",
      "id": "2b158926",
      "metadata": {
        "id": "2b158926"
      },
      "source": [
        "###### NumPy is a library for the Python programming language, adding support for large, multi-dimensional arrays and matrices, along with a large collection of high-level mathematical functions to operate on these arrays"
      ]
    },
    {
      "cell_type": "code",
      "execution_count": 1,
      "id": "1f138989",
      "metadata": {
        "colab": {
          "base_uri": "https://localhost:8080/"
        },
        "id": "1f138989",
        "outputId": "211d6f72-bea5-4138-b49c-d83eb735cbb9"
      },
      "outputs": [
        {
          "output_type": "stream",
          "name": "stdout",
          "text": [
            "Requirement already satisfied: numpy in /usr/local/lib/python3.10/dist-packages (1.22.4)\n"
          ]
        }
      ],
      "source": [
        "!pip install numpy\n",
        "import numpy as np"
      ]
    },
    {
      "cell_type": "markdown",
      "id": "3ecc73be",
      "metadata": {
        "id": "3ecc73be"
      },
      "source": [
        "### space checking"
      ]
    },
    {
      "cell_type": "code",
      "execution_count": null,
      "id": "a6baa431",
      "metadata": {
        "id": "a6baa431"
      },
      "outputs": [],
      "source": [
        "lst = range(1000)"
      ]
    },
    {
      "cell_type": "code",
      "execution_count": null,
      "id": "6317cca7",
      "metadata": {
        "colab": {
          "base_uri": "https://localhost:8080/"
        },
        "id": "6317cca7",
        "outputId": "399090a6-580b-418e-f250-a81c1741e176"
      },
      "outputs": [
        {
          "output_type": "execute_result",
          "data": {
            "text/plain": [
              "range(0, 1000)"
            ]
          },
          "metadata": {},
          "execution_count": 3
        }
      ],
      "source": [
        "lst"
      ]
    },
    {
      "cell_type": "code",
      "execution_count": null,
      "id": "df8adda2",
      "metadata": {
        "id": "df8adda2"
      },
      "outputs": [],
      "source": [
        "import sys"
      ]
    },
    {
      "cell_type": "code",
      "execution_count": null,
      "id": "8b0c201e",
      "metadata": {
        "colab": {
          "base_uri": "https://localhost:8080/"
        },
        "id": "8b0c201e",
        "outputId": "c4543c70-9d85-4a54-8a16-8460bc100700"
      },
      "outputs": [
        {
          "output_type": "execute_result",
          "data": {
            "text/plain": [
              "28000"
            ]
          },
          "metadata": {},
          "execution_count": 5
        }
      ],
      "source": [
        "sys.getsizeof(4)*len(lst)"
      ]
    },
    {
      "cell_type": "code",
      "execution_count": null,
      "id": "b4b38f92",
      "metadata": {
        "id": "b4b38f92"
      },
      "outputs": [],
      "source": [
        "arr = np.arange(1000)"
      ]
    },
    {
      "cell_type": "code",
      "execution_count": null,
      "id": "93fdd88e",
      "metadata": {
        "colab": {
          "base_uri": "https://localhost:8080/"
        },
        "id": "93fdd88e",
        "outputId": "cc84b7ff-a4aa-4395-dee0-585cc0373b5f"
      },
      "outputs": [
        {
          "output_type": "execute_result",
          "data": {
            "text/plain": [
              "8000"
            ]
          },
          "metadata": {},
          "execution_count": 7
        }
      ],
      "source": [
        "arr.size*arr.itemsize"
      ]
    },
    {
      "cell_type": "markdown",
      "id": "91143946",
      "metadata": {
        "id": "91143946"
      },
      "source": [
        "### Fastness"
      ]
    },
    {
      "cell_type": "code",
      "execution_count": null,
      "id": "1b76affa",
      "metadata": {
        "id": "1b76affa"
      },
      "outputs": [],
      "source": [
        "lst1 = range(1000000)\n",
        "lst2 = range(1000000)"
      ]
    },
    {
      "cell_type": "code",
      "execution_count": null,
      "id": "df485a14",
      "metadata": {
        "id": "df485a14"
      },
      "outputs": [],
      "source": [
        "import time"
      ]
    },
    {
      "cell_type": "code",
      "execution_count": null,
      "id": "3c6b6b17",
      "metadata": {
        "scrolled": true,
        "id": "3c6b6b17",
        "outputId": "9689cc01-701c-4786-c379-aaccfe7400c4",
        "colab": {
          "base_uri": "https://localhost:8080/"
        }
      },
      "outputs": [
        {
          "output_type": "stream",
          "name": "stdout",
          "text": [
            "337.6340866088867\n"
          ]
        }
      ],
      "source": [
        "start = time.time()\n",
        "result = [(x+y) for x,y in zip(lst1,lst2)]\n",
        "print((time.time()-start)*1000)"
      ]
    },
    {
      "cell_type": "code",
      "execution_count": null,
      "id": "4ce13c7e",
      "metadata": {
        "id": "4ce13c7e"
      },
      "outputs": [],
      "source": [
        "arr1= np.arange(1000000)\n",
        "arr2= np.arange(1000000)"
      ]
    },
    {
      "cell_type": "code",
      "execution_count": null,
      "id": "1195e32c",
      "metadata": {
        "id": "1195e32c",
        "outputId": "d13de8e7-f75d-4724-fe4d-3a3264b88dcd",
        "colab": {
          "base_uri": "https://localhost:8080/"
        }
      },
      "outputs": [
        {
          "output_type": "stream",
          "name": "stdout",
          "text": [
            "10.779619216918945\n"
          ]
        }
      ],
      "source": [
        "start = time.time()\n",
        "result = arr1+arr2\n",
        "print((time.time()-start)*1000)"
      ]
    },
    {
      "cell_type": "markdown",
      "id": "0fe7b326",
      "metadata": {
        "id": "0fe7b326"
      },
      "source": [
        "#### Flexibilty"
      ]
    },
    {
      "cell_type": "code",
      "execution_count": null,
      "id": "12f615c2",
      "metadata": {
        "id": "12f615c2",
        "outputId": "404f52e2-7018-44c8-8a22-8f9afacc5eea",
        "colab": {
          "base_uri": "https://localhost:8080/"
        }
      },
      "outputs": [
        {
          "output_type": "execute_result",
          "data": {
            "text/plain": [
              "array([      0,       2,       4, ..., 1999994, 1999996, 1999998])"
            ]
          },
          "metadata": {},
          "execution_count": 13
        }
      ],
      "source": [
        "arr1+arr2"
      ]
    },
    {
      "cell_type": "code",
      "execution_count": null,
      "id": "2c170f22",
      "metadata": {
        "id": "2c170f22",
        "outputId": "b5c812a4-841a-4f0a-b679-1fce0e8b2312",
        "colab": {
          "base_uri": "https://localhost:8080/"
        }
      },
      "outputs": [
        {
          "output_type": "execute_result",
          "data": {
            "text/plain": [
              "array([           0,            1,            4, ..., 999994000009,\n",
              "       999996000004, 999998000001])"
            ]
          },
          "metadata": {},
          "execution_count": 14
        }
      ],
      "source": [
        "arr2*arr2"
      ]
    },
    {
      "cell_type": "code",
      "execution_count": null,
      "id": "9fbf29f0",
      "metadata": {
        "id": "9fbf29f0"
      },
      "outputs": [],
      "source": [
        "lst = [1,2,3,3,3,3,3,3,3,3,3,3,3]"
      ]
    },
    {
      "cell_type": "code",
      "execution_count": null,
      "id": "593b57be",
      "metadata": {
        "id": "593b57be",
        "outputId": "58a4ea94-80e1-41d8-fd73-7e16c314ef7f",
        "colab": {
          "base_uri": "https://localhost:8080/"
        }
      },
      "outputs": [
        {
          "output_type": "execute_result",
          "data": {
            "text/plain": [
              "[1, 2, 3, 3, 3, 3, 3, 3, 3, 3, 3, 3, 3, 1, 2, 3, 3, 3, 3, 3, 3, 3, 3, 3, 3, 3]"
            ]
          },
          "metadata": {},
          "execution_count": 16
        }
      ],
      "source": [
        "lst+lst"
      ]
    },
    {
      "cell_type": "code",
      "execution_count": null,
      "id": "58fbae23",
      "metadata": {
        "id": "58fbae23",
        "outputId": "2747cd6c-c753-4203-d11c-ff7f90db4328",
        "colab": {
          "base_uri": "https://localhost:8080/"
        }
      },
      "outputs": [
        {
          "output_type": "stream",
          "name": "stderr",
          "text": [
            "/usr/local/lib/python3.7/dist-packages/ipykernel_launcher.py:1: RuntimeWarning: invalid value encountered in true_divide\n",
            "  \"\"\"Entry point for launching an IPython kernel.\n"
          ]
        },
        {
          "output_type": "execute_result",
          "data": {
            "text/plain": [
              "array([nan,  1.,  1., ...,  1.,  1.,  1.])"
            ]
          },
          "metadata": {},
          "execution_count": 17
        }
      ],
      "source": [
        "arr2/arr2"
      ]
    },
    {
      "cell_type": "markdown",
      "id": "5dff3e32",
      "metadata": {
        "id": "5dff3e32"
      },
      "source": [
        "### creating a array"
      ]
    },
    {
      "cell_type": "code",
      "source": [
        "import numpy as np"
      ],
      "metadata": {
        "id": "uQFIbsopOTAp"
      },
      "id": "uQFIbsopOTAp",
      "execution_count": 2,
      "outputs": []
    },
    {
      "cell_type": "code",
      "source": [
        "x = [1,2,3,4,5]"
      ],
      "metadata": {
        "id": "Wz4Cq34D0dtH"
      },
      "id": "Wz4Cq34D0dtH",
      "execution_count": 3,
      "outputs": []
    },
    {
      "cell_type": "code",
      "source": [
        "type(x)"
      ],
      "metadata": {
        "colab": {
          "base_uri": "https://localhost:8080/"
        },
        "id": "pZMPNo1I0ng2",
        "outputId": "87392b82-bcab-4af6-e846-c14528d40729"
      },
      "id": "pZMPNo1I0ng2",
      "execution_count": 4,
      "outputs": [
        {
          "output_type": "execute_result",
          "data": {
            "text/plain": [
              "list"
            ]
          },
          "metadata": {},
          "execution_count": 4
        }
      ]
    },
    {
      "cell_type": "code",
      "execution_count": 5,
      "id": "1f34545e",
      "metadata": {
        "id": "1f34545e"
      },
      "outputs": [],
      "source": [
        "a = np.array(x)"
      ]
    },
    {
      "cell_type": "code",
      "execution_count": 6,
      "id": "8a3cc11c",
      "metadata": {
        "colab": {
          "base_uri": "https://localhost:8080/"
        },
        "id": "8a3cc11c",
        "outputId": "cf789897-296a-4b0c-d5f1-1cb5f3e067f3"
      },
      "outputs": [
        {
          "output_type": "execute_result",
          "data": {
            "text/plain": [
              "numpy.ndarray"
            ]
          },
          "metadata": {},
          "execution_count": 6
        }
      ],
      "source": [
        "type(a)"
      ]
    },
    {
      "cell_type": "code",
      "source": [
        "a"
      ],
      "metadata": {
        "colab": {
          "base_uri": "https://localhost:8080/"
        },
        "id": "jL_mm_ae04Lq",
        "outputId": "45b2deba-aca3-47b9-d63f-f4044126c1d9"
      },
      "id": "jL_mm_ae04Lq",
      "execution_count": 7,
      "outputs": [
        {
          "output_type": "execute_result",
          "data": {
            "text/plain": [
              "array([1, 2, 3, 4, 5])"
            ]
          },
          "metadata": {},
          "execution_count": 7
        }
      ]
    },
    {
      "cell_type": "code",
      "execution_count": 8,
      "id": "a3eed48b",
      "metadata": {
        "colab": {
          "base_uri": "https://localhost:8080/"
        },
        "id": "a3eed48b",
        "outputId": "38265e2b-7cea-4170-e970-dca9e003320d"
      },
      "outputs": [
        {
          "output_type": "execute_result",
          "data": {
            "text/plain": [
              "1"
            ]
          },
          "metadata": {},
          "execution_count": 8
        }
      ],
      "source": [
        "a.ndim"
      ]
    },
    {
      "cell_type": "code",
      "execution_count": 9,
      "id": "85df1559",
      "metadata": {
        "id": "85df1559"
      },
      "outputs": [],
      "source": [
        "a = np.array([[2,3,4,5],[3,4,5,6]])"
      ]
    },
    {
      "cell_type": "code",
      "execution_count": 10,
      "id": "69598a0d",
      "metadata": {
        "colab": {
          "base_uri": "https://localhost:8080/"
        },
        "id": "69598a0d",
        "outputId": "e91f8559-40b1-46c3-c520-258a1a11183a"
      },
      "outputs": [
        {
          "output_type": "execute_result",
          "data": {
            "text/plain": [
              "array([[2, 3, 4, 5],\n",
              "       [3, 4, 5, 6]])"
            ]
          },
          "metadata": {},
          "execution_count": 10
        }
      ],
      "source": [
        "a"
      ]
    },
    {
      "cell_type": "code",
      "execution_count": 11,
      "id": "a80d1cbd",
      "metadata": {
        "colab": {
          "base_uri": "https://localhost:8080/"
        },
        "id": "a80d1cbd",
        "outputId": "f458808d-a0ae-4bf5-a6ab-bf6408906908"
      },
      "outputs": [
        {
          "output_type": "execute_result",
          "data": {
            "text/plain": [
              "2"
            ]
          },
          "metadata": {},
          "execution_count": 11
        }
      ],
      "source": [
        "a.ndim"
      ]
    },
    {
      "cell_type": "code",
      "execution_count": 12,
      "id": "1b524904",
      "metadata": {
        "id": "1b524904",
        "colab": {
          "base_uri": "https://localhost:8080/"
        },
        "outputId": "13183993-d898-4a99-a8a2-87c641657c4f"
      },
      "outputs": [
        {
          "output_type": "stream",
          "name": "stderr",
          "text": [
            "<ipython-input-12-d21b2319c58c>:1: VisibleDeprecationWarning: Creating an ndarray from ragged nested sequences (which is a list-or-tuple of lists-or-tuples-or ndarrays with different lengths or shapes) is deprecated. If you meant to do this, you must specify 'dtype=object' when creating the ndarray.\n",
            "  a = np.array([[2,3,4,5],[3,4,5,6],[3,4,5,5], [1,5,8,]])\n"
          ]
        }
      ],
      "source": [
        "a = np.array([[2,3,4,5],[3,4,5,6],[3,4,5,5], [1,5,8,]])"
      ]
    },
    {
      "cell_type": "code",
      "execution_count": 13,
      "id": "20191b0f",
      "metadata": {
        "colab": {
          "base_uri": "https://localhost:8080/"
        },
        "id": "20191b0f",
        "outputId": "513d7697-f822-4266-e83e-54ec5e08ac74"
      },
      "outputs": [
        {
          "output_type": "execute_result",
          "data": {
            "text/plain": [
              "array([list([2, 3, 4, 5]), list([3, 4, 5, 6]), list([3, 4, 5, 5]),\n",
              "       list([1, 5, 8])], dtype=object)"
            ]
          },
          "metadata": {},
          "execution_count": 13
        }
      ],
      "source": [
        "a"
      ]
    },
    {
      "cell_type": "code",
      "execution_count": null,
      "id": "732b238e",
      "metadata": {
        "colab": {
          "base_uri": "https://localhost:8080/"
        },
        "id": "732b238e",
        "outputId": "6108fd04-16e4-48a9-8b17-81a02485f079"
      },
      "outputs": [
        {
          "output_type": "execute_result",
          "data": {
            "text/plain": [
              "1"
            ]
          },
          "metadata": {},
          "execution_count": 15
        }
      ],
      "source": [
        "a.ndim"
      ]
    },
    {
      "cell_type": "markdown",
      "id": "092c829d",
      "metadata": {
        "id": "092c829d"
      },
      "source": [
        "#### zeros and one's"
      ]
    },
    {
      "cell_type": "code",
      "execution_count": 14,
      "id": "10264d07",
      "metadata": {
        "id": "10264d07"
      },
      "outputs": [],
      "source": [
        "var = np.zeros(5)"
      ]
    },
    {
      "cell_type": "code",
      "execution_count": 15,
      "id": "a600c638",
      "metadata": {
        "colab": {
          "base_uri": "https://localhost:8080/"
        },
        "id": "a600c638",
        "outputId": "24eb6c41-18f0-4cbe-b83e-ce76333146d2"
      },
      "outputs": [
        {
          "output_type": "execute_result",
          "data": {
            "text/plain": [
              "array([0., 0., 0., 0., 0.])"
            ]
          },
          "metadata": {},
          "execution_count": 15
        }
      ],
      "source": [
        "var"
      ]
    },
    {
      "cell_type": "code",
      "execution_count": 17,
      "id": "69b8c212",
      "metadata": {
        "id": "69b8c212"
      },
      "outputs": [],
      "source": [
        "var = np.zeros((4,5,6))"
      ]
    },
    {
      "cell_type": "code",
      "execution_count": 18,
      "id": "19b6f206",
      "metadata": {
        "colab": {
          "base_uri": "https://localhost:8080/"
        },
        "id": "19b6f206",
        "outputId": "203e5fcf-0e94-44ed-8409-5b17c10d28fc"
      },
      "outputs": [
        {
          "output_type": "execute_result",
          "data": {
            "text/plain": [
              "array([[[0., 0., 0., 0., 0., 0.],\n",
              "        [0., 0., 0., 0., 0., 0.],\n",
              "        [0., 0., 0., 0., 0., 0.],\n",
              "        [0., 0., 0., 0., 0., 0.],\n",
              "        [0., 0., 0., 0., 0., 0.]],\n",
              "\n",
              "       [[0., 0., 0., 0., 0., 0.],\n",
              "        [0., 0., 0., 0., 0., 0.],\n",
              "        [0., 0., 0., 0., 0., 0.],\n",
              "        [0., 0., 0., 0., 0., 0.],\n",
              "        [0., 0., 0., 0., 0., 0.]],\n",
              "\n",
              "       [[0., 0., 0., 0., 0., 0.],\n",
              "        [0., 0., 0., 0., 0., 0.],\n",
              "        [0., 0., 0., 0., 0., 0.],\n",
              "        [0., 0., 0., 0., 0., 0.],\n",
              "        [0., 0., 0., 0., 0., 0.]],\n",
              "\n",
              "       [[0., 0., 0., 0., 0., 0.],\n",
              "        [0., 0., 0., 0., 0., 0.],\n",
              "        [0., 0., 0., 0., 0., 0.],\n",
              "        [0., 0., 0., 0., 0., 0.],\n",
              "        [0., 0., 0., 0., 0., 0.]]])"
            ]
          },
          "metadata": {},
          "execution_count": 18
        }
      ],
      "source": [
        "var"
      ]
    },
    {
      "cell_type": "code",
      "execution_count": 19,
      "id": "79470dcd",
      "metadata": {
        "colab": {
          "base_uri": "https://localhost:8080/"
        },
        "id": "79470dcd",
        "outputId": "5faaa269-3d75-475c-ef17-dd3dfec188c0"
      },
      "outputs": [
        {
          "output_type": "execute_result",
          "data": {
            "text/plain": [
              "3"
            ]
          },
          "metadata": {},
          "execution_count": 19
        }
      ],
      "source": [
        "var.ndim"
      ]
    },
    {
      "cell_type": "code",
      "execution_count": 20,
      "id": "939cd4d5",
      "metadata": {
        "colab": {
          "base_uri": "https://localhost:8080/"
        },
        "id": "939cd4d5",
        "outputId": "364aebd3-fc61-4d61-954a-6d9ebb16b5e3"
      },
      "outputs": [
        {
          "output_type": "execute_result",
          "data": {
            "text/plain": [
              "array([1., 1., 1., 1., 1., 1., 1., 1., 1., 1.])"
            ]
          },
          "metadata": {},
          "execution_count": 20
        }
      ],
      "source": [
        "np.ones(10)"
      ]
    },
    {
      "cell_type": "code",
      "execution_count": null,
      "id": "5b2bcaae",
      "metadata": {
        "colab": {
          "base_uri": "https://localhost:8080/"
        },
        "id": "5b2bcaae",
        "outputId": "553752d4-5ee4-4670-c5f6-7e410aacafce"
      },
      "outputs": [
        {
          "output_type": "execute_result",
          "data": {
            "text/plain": [
              "array([[[1., 1., 1., 1., 1.],\n",
              "        [1., 1., 1., 1., 1.],\n",
              "        [1., 1., 1., 1., 1.],\n",
              "        [1., 1., 1., 1., 1.]],\n",
              "\n",
              "       [[1., 1., 1., 1., 1.],\n",
              "        [1., 1., 1., 1., 1.],\n",
              "        [1., 1., 1., 1., 1.],\n",
              "        [1., 1., 1., 1., 1.]],\n",
              "\n",
              "       [[1., 1., 1., 1., 1.],\n",
              "        [1., 1., 1., 1., 1.],\n",
              "        [1., 1., 1., 1., 1.],\n",
              "        [1., 1., 1., 1., 1.]]])"
            ]
          },
          "metadata": {},
          "execution_count": 24
        }
      ],
      "source": [
        "np.ones((3,4,5))"
      ]
    },
    {
      "cell_type": "markdown",
      "id": "44ff334b",
      "metadata": {
        "id": "44ff334b"
      },
      "source": [
        "# functions"
      ]
    },
    {
      "cell_type": "code",
      "execution_count": null,
      "id": "8691c739",
      "metadata": {
        "id": "8691c739"
      },
      "outputs": [],
      "source": [
        "var = np.array([22,33,44])"
      ]
    },
    {
      "cell_type": "code",
      "execution_count": null,
      "id": "c66f574e",
      "metadata": {
        "colab": {
          "base_uri": "https://localhost:8080/"
        },
        "id": "c66f574e",
        "outputId": "eb93a1e9-066a-4519-e6d4-0e31029b498e"
      },
      "outputs": [
        {
          "output_type": "execute_result",
          "data": {
            "text/plain": [
              "array([22, 33, 44])"
            ]
          },
          "metadata": {},
          "execution_count": 26
        }
      ],
      "source": [
        "var"
      ]
    },
    {
      "cell_type": "code",
      "execution_count": null,
      "id": "7024ed09",
      "metadata": {
        "colab": {
          "base_uri": "https://localhost:8080/"
        },
        "id": "7024ed09",
        "outputId": "38e15f06-f25a-43a6-da0f-458f72e0f2c5"
      },
      "outputs": [
        {
          "output_type": "execute_result",
          "data": {
            "text/plain": [
              "numpy.ndarray"
            ]
          },
          "metadata": {},
          "execution_count": 27
        }
      ],
      "source": [
        "type(var)"
      ]
    },
    {
      "cell_type": "code",
      "execution_count": null,
      "id": "b8ef68b5",
      "metadata": {
        "colab": {
          "base_uri": "https://localhost:8080/"
        },
        "id": "b8ef68b5",
        "outputId": "8c590e54-afc0-4a5e-db9c-4801b618954b"
      },
      "outputs": [
        {
          "output_type": "execute_result",
          "data": {
            "text/plain": [
              "2"
            ]
          },
          "metadata": {},
          "execution_count": 28
        }
      ],
      "source": [
        "var.argmax()  # max value in index position"
      ]
    },
    {
      "cell_type": "code",
      "execution_count": null,
      "id": "dc27883e",
      "metadata": {
        "colab": {
          "base_uri": "https://localhost:8080/"
        },
        "id": "dc27883e",
        "outputId": "1833333d-f4a1-4de7-dd68-943148944075"
      },
      "outputs": [
        {
          "output_type": "execute_result",
          "data": {
            "text/plain": [
              "0"
            ]
          },
          "metadata": {},
          "execution_count": 29
        }
      ],
      "source": [
        "var.argmin() # min index values"
      ]
    },
    {
      "cell_type": "code",
      "execution_count": null,
      "id": "88dd3c77",
      "metadata": {
        "colab": {
          "base_uri": "https://localhost:8080/"
        },
        "id": "88dd3c77",
        "outputId": "1055365a-a29e-439b-d76c-3b9954d3d557"
      },
      "outputs": [
        {
          "output_type": "execute_result",
          "data": {
            "text/plain": [
              "<memory at 0x7fac875bee80>"
            ]
          },
          "metadata": {},
          "execution_count": 31
        }
      ],
      "source": [
        "var.data"
      ]
    },
    {
      "cell_type": "code",
      "execution_count": null,
      "id": "dae0d20c",
      "metadata": {
        "colab": {
          "base_uri": "https://localhost:8080/"
        },
        "id": "dae0d20c",
        "outputId": "36d24409-5da4-462a-ab54-fde3d32fde4c"
      },
      "outputs": [
        {
          "output_type": "execute_result",
          "data": {
            "text/plain": [
              "dtype('int64')"
            ]
          },
          "metadata": {},
          "execution_count": 30
        }
      ],
      "source": [
        "var.dtype"
      ]
    },
    {
      "cell_type": "code",
      "execution_count": null,
      "id": "51e66833",
      "metadata": {
        "colab": {
          "base_uri": "https://localhost:8080/",
          "height": 36
        },
        "id": "51e66833",
        "outputId": "00a58325-2349-44a9-f42a-f56bb17af80d"
      },
      "outputs": [
        {
          "output_type": "execute_result",
          "data": {
            "text/plain": [
              "'int64'"
            ],
            "application/vnd.google.colaboratory.intrinsic+json": {
              "type": "string"
            }
          },
          "metadata": {},
          "execution_count": 41
        }
      ],
      "source": [
        "var.dtype.name"
      ]
    },
    {
      "cell_type": "code",
      "execution_count": null,
      "id": "1aedd08e",
      "metadata": {
        "colab": {
          "base_uri": "https://localhost:8080/"
        },
        "id": "1aedd08e",
        "outputId": "40491b3a-0f79-4e0d-ee04-7e477508e9df"
      },
      "outputs": [
        {
          "output_type": "execute_result",
          "data": {
            "text/plain": [
              "array([22, 33, 44])"
            ]
          },
          "metadata": {},
          "execution_count": 32
        }
      ],
      "source": [
        "var"
      ]
    },
    {
      "cell_type": "code",
      "execution_count": null,
      "id": "c6de175e",
      "metadata": {
        "colab": {
          "base_uri": "https://localhost:8080/"
        },
        "id": "c6de175e",
        "outputId": "4d43538f-3616-4766-c5cd-3cd5b3a955b9"
      },
      "outputs": [
        {
          "output_type": "execute_result",
          "data": {
            "text/plain": [
              "33"
            ]
          },
          "metadata": {},
          "execution_count": 33
        }
      ],
      "source": [
        "var[1]"
      ]
    },
    {
      "cell_type": "code",
      "execution_count": null,
      "id": "1883dfbf",
      "metadata": {
        "colab": {
          "base_uri": "https://localhost:8080/"
        },
        "id": "1883dfbf",
        "outputId": "dfa68cd9-b6cb-466d-b9d6-0d7d14beadb7"
      },
      "outputs": [
        {
          "output_type": "execute_result",
          "data": {
            "text/plain": [
              "22"
            ]
          },
          "metadata": {},
          "execution_count": 34
        }
      ],
      "source": [
        "var[0]"
      ]
    },
    {
      "cell_type": "code",
      "execution_count": null,
      "id": "c313dc81",
      "metadata": {
        "colab": {
          "base_uri": "https://localhost:8080/"
        },
        "id": "c313dc81",
        "outputId": "dc3cf3dc-e014-40bb-dbc1-697730987768"
      },
      "outputs": [
        {
          "output_type": "execute_result",
          "data": {
            "text/plain": [
              "array([22, 33])"
            ]
          },
          "metadata": {},
          "execution_count": 36
        }
      ],
      "source": [
        "var[0:2]"
      ]
    },
    {
      "cell_type": "code",
      "execution_count": null,
      "id": "b6e36483",
      "metadata": {
        "id": "b6e36483",
        "outputId": "784d30f7-aef2-489a-dbcc-359eb19b635e",
        "colab": {
          "base_uri": "https://localhost:8080/"
        }
      },
      "outputs": [
        {
          "output_type": "execute_result",
          "data": {
            "text/plain": [
              "array([22, 33, 44])"
            ]
          },
          "metadata": {},
          "execution_count": 35
        }
      ],
      "source": [
        "var[0:3]"
      ]
    },
    {
      "cell_type": "code",
      "execution_count": null,
      "id": "10d62add",
      "metadata": {
        "id": "10d62add"
      },
      "outputs": [],
      "source": [
        "lst = [3,4,5]"
      ]
    },
    {
      "cell_type": "code",
      "execution_count": null,
      "id": "f4359428",
      "metadata": {
        "id": "f4359428",
        "outputId": "15755489-2a4c-411b-f49d-369398f98560",
        "colab": {
          "base_uri": "https://localhost:8080/"
        }
      },
      "outputs": [
        {
          "output_type": "execute_result",
          "data": {
            "text/plain": [
              "[3, 4, 5]"
            ]
          },
          "metadata": {},
          "execution_count": 38
        }
      ],
      "source": [
        "lst"
      ]
    },
    {
      "cell_type": "code",
      "execution_count": null,
      "id": "e2b181d3",
      "metadata": {
        "id": "e2b181d3"
      },
      "outputs": [],
      "source": [
        "lst[1] = 444"
      ]
    },
    {
      "cell_type": "code",
      "execution_count": null,
      "id": "a0cb1386",
      "metadata": {
        "id": "a0cb1386",
        "outputId": "09fe64a2-6b68-4c69-8965-aac3650b3f5d",
        "colab": {
          "base_uri": "https://localhost:8080/"
        }
      },
      "outputs": [
        {
          "output_type": "execute_result",
          "data": {
            "text/plain": [
              "[3, 444, 5]"
            ]
          },
          "metadata": {},
          "execution_count": 40
        }
      ],
      "source": [
        "lst"
      ]
    },
    {
      "cell_type": "code",
      "execution_count": null,
      "id": "d7ac76dc",
      "metadata": {
        "id": "d7ac76dc",
        "outputId": "d2ac9f6c-c23d-48ca-a01d-66f69132e8af",
        "colab": {
          "base_uri": "https://localhost:8080/"
        }
      },
      "outputs": [
        {
          "output_type": "execute_result",
          "data": {
            "text/plain": [
              "array([22, 33, 44])"
            ]
          },
          "metadata": {},
          "execution_count": 51
        }
      ],
      "source": [
        "var"
      ]
    },
    {
      "cell_type": "code",
      "execution_count": null,
      "id": "3ceecff2",
      "metadata": {
        "id": "3ceecff2"
      },
      "outputs": [],
      "source": [
        "var[0] = 1000"
      ]
    },
    {
      "cell_type": "code",
      "execution_count": null,
      "id": "6ea7968e",
      "metadata": {
        "id": "6ea7968e",
        "outputId": "2fdf87f7-52c7-473c-d605-96754d11117a",
        "colab": {
          "base_uri": "https://localhost:8080/"
        }
      },
      "outputs": [
        {
          "output_type": "execute_result",
          "data": {
            "text/plain": [
              "array([1000,   33,   44])"
            ]
          },
          "metadata": {},
          "execution_count": 53
        }
      ],
      "source": [
        "var"
      ]
    },
    {
      "cell_type": "code",
      "execution_count": null,
      "id": "85f5cdbc",
      "metadata": {
        "id": "85f5cdbc"
      },
      "outputs": [],
      "source": [
        "arr = np.array([[1,2,3,4],[2,3,4,5]], dtype = complex)"
      ]
    },
    {
      "cell_type": "code",
      "execution_count": null,
      "id": "f2e4ab64",
      "metadata": {
        "id": "f2e4ab64",
        "outputId": "725dfe28-0fdc-43d4-8b2f-7929a06c4ae9",
        "colab": {
          "base_uri": "https://localhost:8080/"
        }
      },
      "outputs": [
        {
          "output_type": "execute_result",
          "data": {
            "text/plain": [
              "array([[1.+0.j, 2.+0.j, 3.+0.j, 4.+0.j],\n",
              "       [2.+0.j, 3.+0.j, 4.+0.j, 5.+0.j]])"
            ]
          },
          "metadata": {},
          "execution_count": 55
        }
      ],
      "source": [
        "arr"
      ]
    },
    {
      "cell_type": "code",
      "execution_count": null,
      "id": "af53004b",
      "metadata": {
        "id": "af53004b"
      },
      "outputs": [],
      "source": [
        "# print an array with 10 values by giving max and min\n",
        "aa = np.linspace(0,2,10)"
      ]
    },
    {
      "cell_type": "code",
      "execution_count": null,
      "id": "69b60438",
      "metadata": {
        "id": "69b60438",
        "outputId": "c10dfab2-0160-4069-ed9b-6f6badf828a8",
        "colab": {
          "base_uri": "https://localhost:8080/"
        }
      },
      "outputs": [
        {
          "output_type": "execute_result",
          "data": {
            "text/plain": [
              "array([0.        , 0.22222222, 0.44444444, 0.66666667, 0.88888889,\n",
              "       1.11111111, 1.33333333, 1.55555556, 1.77777778, 2.        ])"
            ]
          },
          "metadata": {},
          "execution_count": 57
        }
      ],
      "source": [
        "aa"
      ]
    },
    {
      "cell_type": "code",
      "execution_count": null,
      "id": "59179727",
      "metadata": {
        "id": "59179727",
        "outputId": "63603338-83aa-404e-a5cb-987f0f6d581e",
        "colab": {
          "base_uri": "https://localhost:8080/"
        }
      },
      "outputs": [
        {
          "output_type": "execute_result",
          "data": {
            "text/plain": [
              "array([0.        , 0.22039774, 0.42995636, 0.6183698 , 0.77637192,\n",
              "       0.8961922 , 0.9719379 , 0.99988386, 0.9786557 , 0.90929743])"
            ]
          },
          "metadata": {},
          "execution_count": 58
        }
      ],
      "source": [
        "np.sin(aa)"
      ]
    },
    {
      "cell_type": "code",
      "execution_count": null,
      "id": "cbdbced3",
      "metadata": {
        "id": "cbdbced3",
        "outputId": "013cf5f3-8263-44aa-c231-da74ac7e6777",
        "colab": {
          "base_uri": "https://localhost:8080/"
        }
      },
      "outputs": [
        {
          "output_type": "execute_result",
          "data": {
            "text/plain": [
              "array([ 0.        ,  0.22595393,  0.47622143,  0.78684289,  1.23179859,\n",
              "        2.01997033,  4.13172899, 65.60839711, -4.76215913, -2.18503986])"
            ]
          },
          "metadata": {},
          "execution_count": 59
        }
      ],
      "source": [
        "np.tan(aa)"
      ]
    },
    {
      "cell_type": "code",
      "execution_count": null,
      "id": "3bd0e64a",
      "metadata": {
        "id": "3bd0e64a",
        "outputId": "8be70c65-af23-4f9a-9f8f-f530d5f154c6",
        "colab": {
          "base_uri": "https://localhost:8080/"
        }
      },
      "outputs": [
        {
          "output_type": "execute_result",
          "data": {
            "text/plain": [
              "array([0.        , 0.21863508, 0.41732165, 0.58278295, 0.7108445 ,\n",
              "       0.8044548 , 0.87006166, 0.9146975 , 0.94445565, 0.96402758])"
            ]
          },
          "metadata": {},
          "execution_count": 60
        }
      ],
      "source": [
        "np.tanh(aa)"
      ]
    },
    {
      "cell_type": "code",
      "execution_count": null,
      "id": "089f1663",
      "metadata": {
        "id": "089f1663"
      },
      "outputs": [],
      "source": [
        "from numpy import pi"
      ]
    },
    {
      "cell_type": "code",
      "execution_count": null,
      "id": "ce80ab23",
      "metadata": {
        "id": "ce80ab23",
        "outputId": "380d7e33-192c-43f9-aa90-5c859647d17f",
        "colab": {
          "base_uri": "https://localhost:8080/"
        }
      },
      "outputs": [
        {
          "output_type": "execute_result",
          "data": {
            "text/plain": [
              "array([0.        , 0.6981317 , 1.3962634 , 2.0943951 , 2.7925268 ,\n",
              "       3.4906585 , 4.1887902 , 4.88692191, 5.58505361, 6.28318531])"
            ]
          },
          "metadata": {},
          "execution_count": 62
        }
      ],
      "source": [
        "pi*aa"
      ]
    },
    {
      "cell_type": "code",
      "execution_count": null,
      "id": "be86a70d",
      "metadata": {
        "id": "be86a70d",
        "outputId": "417d0be7-1d82-403e-ff09-192884d7d218",
        "colab": {
          "base_uri": "https://localhost:8080/"
        }
      },
      "outputs": [
        {
          "output_type": "execute_result",
          "data": {
            "text/plain": [
              "0.6868623611450168"
            ]
          },
          "metadata": {},
          "execution_count": 63
        }
      ],
      "source": [
        "0.21863508*pi"
      ]
    },
    {
      "cell_type": "markdown",
      "id": "efb7a35c",
      "metadata": {
        "id": "efb7a35c"
      },
      "source": [
        "#### reshape and resize"
      ]
    },
    {
      "cell_type": "code",
      "execution_count": 21,
      "id": "45570a78",
      "metadata": {
        "id": "45570a78",
        "outputId": "c911cf2d-060a-42a8-f258-97c1ab555e1b",
        "colab": {
          "base_uri": "https://localhost:8080/"
        }
      },
      "outputs": [
        {
          "output_type": "execute_result",
          "data": {
            "text/plain": [
              "array([ 0,  1,  2,  3,  4,  5,  6,  7,  8,  9, 10, 11, 12, 13, 14, 15, 16,\n",
              "       17, 18, 19])"
            ]
          },
          "metadata": {},
          "execution_count": 21
        }
      ],
      "source": [
        "a = np.arange(20)\n",
        "a"
      ]
    },
    {
      "cell_type": "code",
      "source": [
        "a.ndim"
      ],
      "metadata": {
        "colab": {
          "base_uri": "https://localhost:8080/"
        },
        "id": "8dF8nVuvRg69",
        "outputId": "b4b922d5-4b96-4997-fe5e-5f24311ea972"
      },
      "id": "8dF8nVuvRg69",
      "execution_count": null,
      "outputs": [
        {
          "output_type": "execute_result",
          "data": {
            "text/plain": [
              "1"
            ]
          },
          "metadata": {},
          "execution_count": 42
        }
      ]
    },
    {
      "cell_type": "code",
      "source": [
        "import numpy as np"
      ],
      "metadata": {
        "id": "sA0wZ0tzmY9t"
      },
      "id": "sA0wZ0tzmY9t",
      "execution_count": null,
      "outputs": []
    },
    {
      "cell_type": "code",
      "source": [
        "a"
      ],
      "metadata": {
        "colab": {
          "base_uri": "https://localhost:8080/"
        },
        "id": "FVaCr11o3p4_",
        "outputId": "7bd57cc6-7d88-4323-a8ee-ca2c6555a45f"
      },
      "id": "FVaCr11o3p4_",
      "execution_count": 22,
      "outputs": [
        {
          "output_type": "execute_result",
          "data": {
            "text/plain": [
              "array([ 0,  1,  2,  3,  4,  5,  6,  7,  8,  9, 10, 11, 12, 13, 14, 15, 16,\n",
              "       17, 18, 19])"
            ]
          },
          "metadata": {},
          "execution_count": 22
        }
      ]
    },
    {
      "cell_type": "code",
      "source": [
        "a.ndim"
      ],
      "metadata": {
        "colab": {
          "base_uri": "https://localhost:8080/"
        },
        "id": "RukEWJX34ADV",
        "outputId": "858a2d16-65b8-419a-b66e-5ab82728e3ee"
      },
      "id": "RukEWJX34ADV",
      "execution_count": 26,
      "outputs": [
        {
          "output_type": "execute_result",
          "data": {
            "text/plain": [
              "1"
            ]
          },
          "metadata": {},
          "execution_count": 26
        }
      ]
    },
    {
      "cell_type": "code",
      "execution_count": 25,
      "id": "7b65ac25",
      "metadata": {
        "id": "7b65ac25",
        "outputId": "7bb1e9f5-4a78-4433-902b-601f9ffaf0b7",
        "colab": {
          "base_uri": "https://localhost:8080/"
        }
      },
      "outputs": [
        {
          "output_type": "execute_result",
          "data": {
            "text/plain": [
              "array([[ 0,  1,  2,  3],\n",
              "       [ 4,  5,  6,  7],\n",
              "       [ 8,  9, 10, 11],\n",
              "       [12, 13, 14, 15],\n",
              "       [16, 17, 18, 19]])"
            ]
          },
          "metadata": {},
          "execution_count": 25
        }
      ],
      "source": [
        " b = a.reshape(5,4)\n",
        " b"
      ]
    },
    {
      "cell_type": "code",
      "source": [
        "b.ndim"
      ],
      "metadata": {
        "colab": {
          "base_uri": "https://localhost:8080/"
        },
        "id": "JWkZNUrYmt6k",
        "outputId": "4ec8333f-2d75-491b-c39c-24bd0acadea0"
      },
      "id": "JWkZNUrYmt6k",
      "execution_count": 27,
      "outputs": [
        {
          "output_type": "execute_result",
          "data": {
            "text/plain": [
              "2"
            ]
          },
          "metadata": {},
          "execution_count": 27
        }
      ]
    },
    {
      "cell_type": "code",
      "execution_count": 28,
      "id": "dceb9784",
      "metadata": {
        "id": "dceb9784",
        "outputId": "6b09abd3-4cde-4f10-e531-ea99a24bc9ca",
        "colab": {
          "base_uri": "https://localhost:8080/"
        }
      },
      "outputs": [
        {
          "output_type": "execute_result",
          "data": {
            "text/plain": [
              "array([[ 0,  1],\n",
              "       [ 2,  3],\n",
              "       [ 4,  5],\n",
              "       [ 6,  7],\n",
              "       [ 8,  9],\n",
              "       [10, 11],\n",
              "       [12, 13],\n",
              "       [14, 15],\n",
              "       [16, 17],\n",
              "       [18, 19]])"
            ]
          },
          "metadata": {},
          "execution_count": 28
        }
      ],
      "source": [
        "a.reshape(10,2)"
      ]
    },
    {
      "cell_type": "code",
      "execution_count": 29,
      "id": "7cedb9dd",
      "metadata": {
        "id": "7cedb9dd",
        "outputId": "94519fee-ceb9-44b8-d332-6143caa901d1",
        "colab": {
          "base_uri": "https://localhost:8080/"
        }
      },
      "outputs": [
        {
          "output_type": "execute_result",
          "data": {
            "text/plain": [
              "array([[ 0,  1,  2,  3,  4,  5,  6,  7,  8,  9],\n",
              "       [10, 11, 12, 13, 14, 15, 16, 17, 18, 19]])"
            ]
          },
          "metadata": {},
          "execution_count": 29
        }
      ],
      "source": [
        "a.reshape(2,10)"
      ]
    },
    {
      "cell_type": "code",
      "execution_count": 45,
      "id": "b388d05c",
      "metadata": {
        "id": "b388d05c"
      },
      "outputs": [],
      "source": [
        "rnge = np.random.default_rng()"
      ]
    },
    {
      "cell_type": "code",
      "execution_count": 46,
      "id": "30034612",
      "metadata": {
        "id": "30034612"
      },
      "outputs": [],
      "source": [
        "a = rnge.random((3,4))"
      ]
    },
    {
      "cell_type": "code",
      "execution_count": 47,
      "id": "9176adaf",
      "metadata": {
        "id": "9176adaf",
        "outputId": "284c2e63-c2e4-4b28-d6a6-a6a365591c00",
        "colab": {
          "base_uri": "https://localhost:8080/"
        }
      },
      "outputs": [
        {
          "output_type": "execute_result",
          "data": {
            "text/plain": [
              "array([[0.41067769, 0.20853126, 0.54301682, 0.68764139],\n",
              "       [0.71686117, 0.05250152, 0.99264382, 0.37564751],\n",
              "       [0.42486048, 0.7247601 , 0.78262304, 0.41839932]])"
            ]
          },
          "metadata": {},
          "execution_count": 47
        }
      ],
      "source": [
        "a\n"
      ]
    },
    {
      "cell_type": "code",
      "execution_count": 39,
      "id": "1e99504b",
      "metadata": {
        "id": "1e99504b",
        "outputId": "23e200d6-ee5b-43a9-b93b-b18e70f5055e",
        "colab": {
          "base_uri": "https://localhost:8080/"
        }
      },
      "outputs": [
        {
          "output_type": "execute_result",
          "data": {
            "text/plain": [
              "4.682684022737332"
            ]
          },
          "metadata": {},
          "execution_count": 39
        }
      ],
      "source": [
        "a.sum()"
      ]
    },
    {
      "cell_type": "code",
      "execution_count": null,
      "id": "f35399cd",
      "metadata": {
        "id": "f35399cd",
        "outputId": "5c421ff7-4385-48ae-c343-3b30cbf2247a",
        "colab": {
          "base_uri": "https://localhost:8080/"
        }
      },
      "outputs": [
        {
          "output_type": "execute_result",
          "data": {
            "text/plain": [
              "array([1.13668203, 1.68448469, 1.56439248, 0.29712483])"
            ]
          },
          "metadata": {},
          "execution_count": 72
        }
      ],
      "source": [
        "a.sum(axis = 0)"
      ]
    },
    {
      "cell_type": "code",
      "execution_count": null,
      "id": "cfd145e9",
      "metadata": {
        "id": "cfd145e9",
        "outputId": "18e75039-e4bf-4d09-f1a5-a083ccdd2c9b",
        "colab": {
          "base_uri": "https://localhost:8080/"
        }
      },
      "outputs": [
        {
          "output_type": "execute_result",
          "data": {
            "text/plain": [
              "array([1.46624496, 1.57170875, 1.64473031])"
            ]
          },
          "metadata": {},
          "execution_count": 73
        }
      ],
      "source": [
        "a.sum(axis = 1)"
      ]
    },
    {
      "cell_type": "code",
      "execution_count": null,
      "id": "b0cddbb1",
      "metadata": {
        "id": "b0cddbb1",
        "outputId": "510ebbcb-fee5-40bc-ffa3-5c92a6f90614",
        "colab": {
          "base_uri": "https://localhost:8080/"
        }
      },
      "outputs": [
        {
          "output_type": "execute_result",
          "data": {
            "text/plain": [
              "array([0.26161213, 0.56010328, 1.37432902, 1.46624496, 2.06634549,\n",
              "       2.79490601, 2.98280709, 3.03795371, 3.31292308, 3.9703561 ,\n",
              "       4.53262176, 4.68268402])"
            ]
          },
          "metadata": {},
          "execution_count": 14
        }
      ],
      "source": [
        "a.cumsum()"
      ]
    },
    {
      "cell_type": "code",
      "execution_count": null,
      "id": "25fb1e9e",
      "metadata": {
        "id": "25fb1e9e",
        "outputId": "ff924bbb-b715-4e99-d80c-8d2760d13250",
        "colab": {
          "base_uri": "https://localhost:8080/"
        }
      },
      "outputs": [
        {
          "output_type": "execute_result",
          "data": {
            "text/plain": [
              "array([2.61612134e-01, 7.80889051e-02, 6.35819966e-02, 5.84419912e-03,\n",
              "       3.50710696e-03, 2.55513970e-03, 4.80113492e-04, 2.64766398e-05,\n",
              "       7.28026491e-06, 4.78628651e-06, 2.69116456e-06, 4.03842244e-07])"
            ]
          },
          "metadata": {},
          "execution_count": 15
        }
      ],
      "source": [
        "a.cumprod()"
      ]
    },
    {
      "cell_type": "code",
      "execution_count": null,
      "id": "bf9985de",
      "metadata": {
        "id": "bf9985de"
      },
      "outputs": [],
      "source": [
        "a = np.array([15, 18, 350, 100, 90, 150, 80, 60])"
      ]
    },
    {
      "cell_type": "code",
      "execution_count": null,
      "id": "2f9820e3",
      "metadata": {
        "id": "2f9820e3",
        "outputId": "296e5d3f-4e7a-4159-c253-b4b4771056c2",
        "colab": {
          "base_uri": "https://localhost:8080/"
        }
      },
      "outputs": [
        {
          "output_type": "execute_result",
          "data": {
            "text/plain": [
              "2"
            ]
          },
          "metadata": {},
          "execution_count": 17
        }
      ],
      "source": [
        "np.argmax(a)"
      ]
    },
    {
      "cell_type": "code",
      "source": [
        "a.max()"
      ],
      "metadata": {
        "colab": {
          "base_uri": "https://localhost:8080/"
        },
        "id": "Vl5Z3YcPSmkr",
        "outputId": "6a778bc1-007c-4b14-e738-5547896559e7"
      },
      "id": "Vl5Z3YcPSmkr",
      "execution_count": null,
      "outputs": [
        {
          "output_type": "execute_result",
          "data": {
            "text/plain": [
              "350"
            ]
          },
          "metadata": {},
          "execution_count": 53
        }
      ]
    },
    {
      "cell_type": "code",
      "source": [
        "np.argmax() and max()\n",
        "np.argmin() and min()"
      ],
      "metadata": {
        "id": "oluTHVuDR-jp"
      },
      "id": "oluTHVuDR-jp",
      "execution_count": null,
      "outputs": []
    },
    {
      "cell_type": "code",
      "execution_count": null,
      "id": "71e5a70c",
      "metadata": {
        "id": "71e5a70c",
        "outputId": "2e793f6b-600d-4828-a390-5ab673693246",
        "colab": {
          "base_uri": "https://localhost:8080/"
        }
      },
      "outputs": [
        {
          "output_type": "execute_result",
          "data": {
            "text/plain": [
              "0.05514662733306819"
            ]
          },
          "metadata": {},
          "execution_count": 78
        }
      ],
      "source": [
        "a.min()"
      ]
    },
    {
      "cell_type": "code",
      "execution_count": null,
      "id": "ec220f8b",
      "metadata": {
        "id": "ec220f8b"
      },
      "outputs": [],
      "source": [
        "q = 567890"
      ]
    },
    {
      "cell_type": "code",
      "execution_count": null,
      "id": "58ff381e",
      "metadata": {
        "id": "58ff381e",
        "outputId": "f782e8a3-84f9-4b39-9c10-480eb815beba",
        "colab": {
          "base_uri": "https://localhost:8080/"
        }
      },
      "outputs": [
        {
          "output_type": "execute_result",
          "data": {
            "text/plain": [
              "753.5847663003811"
            ]
          },
          "metadata": {},
          "execution_count": 20
        }
      ],
      "source": [
        "np.sqrt(q)"
      ]
    },
    {
      "cell_type": "code",
      "execution_count": null,
      "id": "f0f7af21",
      "metadata": {
        "id": "f0f7af21"
      },
      "outputs": [],
      "source": [
        "x = [1,2,3,5,6]"
      ]
    },
    {
      "cell_type": "code",
      "execution_count": null,
      "id": "6f062caa",
      "metadata": {
        "id": "6f062caa",
        "outputId": "2a8ae15e-9e59-4e36-d51c-e4a0b938c0c8",
        "colab": {
          "base_uri": "https://localhost:8080/"
        }
      },
      "outputs": [
        {
          "output_type": "execute_result",
          "data": {
            "text/plain": [
              "array([1.        , 1.41421356, 1.73205081, 2.23606798, 2.44948974])"
            ]
          },
          "metadata": {},
          "execution_count": 22
        }
      ],
      "source": [
        "np.sqrt(x)"
      ]
    },
    {
      "cell_type": "code",
      "execution_count": null,
      "id": "27a10312",
      "metadata": {
        "id": "27a10312",
        "outputId": "4ccd5d46-cc55-44e1-d5f8-1c0cfb4b2113",
        "colab": {
          "base_uri": "https://localhost:8080/"
        }
      },
      "outputs": [
        {
          "output_type": "execute_result",
          "data": {
            "text/plain": [
              "array([0.        , 0.69314718, 1.09861229, 1.60943791, 1.79175947])"
            ]
          },
          "metadata": {},
          "execution_count": 23
        }
      ],
      "source": [
        "np.log(x)"
      ]
    },
    {
      "cell_type": "code",
      "execution_count": null,
      "id": "b00cef13",
      "metadata": {
        "id": "b00cef13",
        "outputId": "0bc09730-c400-4eaa-ae2a-9cda274a87a1",
        "colab": {
          "base_uri": "https://localhost:8080/"
        }
      },
      "outputs": [
        {
          "output_type": "execute_result",
          "data": {
            "text/plain": [
              "array([  2.71828183,   7.3890561 ,  20.08553692, 148.4131591 ,\n",
              "       403.42879349])"
            ]
          },
          "metadata": {},
          "execution_count": 24
        }
      ],
      "source": [
        "np.exp(x)"
      ]
    },
    {
      "cell_type": "code",
      "execution_count": null,
      "id": "3fb86412",
      "metadata": {
        "id": "3fb86412",
        "outputId": "a8f500f1-06f0-487d-a8a2-5951db549fa1",
        "colab": {
          "base_uri": "https://localhost:8080/"
        }
      },
      "outputs": [
        {
          "output_type": "execute_result",
          "data": {
            "text/plain": [
              "array([[0.26161213, 0.29849114, 0.81422574, 0.09191594],\n",
              "       [0.60010053, 0.72856053, 0.18790107, 0.05514663],\n",
              "       [0.27496937, 0.65743301, 0.56226566, 0.15006226]])"
            ]
          },
          "metadata": {},
          "execution_count": 85
        }
      ],
      "source": [
        "a"
      ]
    },
    {
      "cell_type": "code",
      "execution_count": null,
      "id": "d8a91588",
      "metadata": {
        "id": "d8a91588",
        "outputId": "33585145-fcb6-44de-d481-93821d0bc6ec",
        "colab": {
          "base_uri": "https://localhost:8080/"
        }
      },
      "outputs": [
        {
          "output_type": "execute_result",
          "data": {
            "text/plain": [
              "(3, 4)"
            ]
          },
          "metadata": {},
          "execution_count": 86
        }
      ],
      "source": [
        "a.shape"
      ]
    },
    {
      "cell_type": "markdown",
      "id": "36f4fc86",
      "metadata": {
        "id": "36f4fc86"
      },
      "source": [
        "### transpose"
      ]
    },
    {
      "cell_type": "code",
      "execution_count": null,
      "id": "8b1568ee",
      "metadata": {
        "id": "8b1568ee"
      },
      "outputs": [],
      "source": [
        "aa = a.T"
      ]
    },
    {
      "cell_type": "code",
      "execution_count": null,
      "id": "cc380479",
      "metadata": {
        "id": "cc380479",
        "outputId": "a99329e2-2d73-470d-afc9-c24fa6b72c59",
        "colab": {
          "base_uri": "https://localhost:8080/"
        }
      },
      "outputs": [
        {
          "output_type": "execute_result",
          "data": {
            "text/plain": [
              "(8,)"
            ]
          },
          "metadata": {},
          "execution_count": 58
        }
      ],
      "source": [
        "aa.shape"
      ]
    },
    {
      "cell_type": "markdown",
      "id": "f8e80667",
      "metadata": {
        "id": "f8e80667"
      },
      "source": [
        "## reverse"
      ]
    },
    {
      "cell_type": "code",
      "execution_count": null,
      "id": "2b67dcaf",
      "metadata": {
        "id": "2b67dcaf",
        "outputId": "e80e2985-6fb4-4bb2-ed89-d01dca87bc68",
        "colab": {
          "base_uri": "https://localhost:8080/"
        }
      },
      "outputs": [
        {
          "output_type": "execute_result",
          "data": {
            "text/plain": [
              "array([[0.26161213, 0.29849114, 0.81422574, 0.09191594],\n",
              "       [0.60010053, 0.72856053, 0.18790107, 0.05514663],\n",
              "       [0.27496937, 0.65743301, 0.56226566, 0.15006226]])"
            ]
          },
          "metadata": {},
          "execution_count": 89
        }
      ],
      "source": [
        "a"
      ]
    },
    {
      "cell_type": "code",
      "execution_count": null,
      "id": "aba2dbf9",
      "metadata": {
        "id": "aba2dbf9"
      },
      "outputs": [],
      "source": [
        "aaa =  np.linspace(1,4,10)"
      ]
    },
    {
      "cell_type": "code",
      "execution_count": null,
      "id": "507c962a",
      "metadata": {
        "scrolled": true,
        "id": "507c962a",
        "outputId": "266f424e-c89a-4b69-928c-ebc0ddf0eb55",
        "colab": {
          "base_uri": "https://localhost:8080/"
        }
      },
      "outputs": [
        {
          "output_type": "execute_result",
          "data": {
            "text/plain": [
              "array([1.        , 1.33333333, 1.66666667, 2.        , 2.33333333,\n",
              "       2.66666667, 3.        , 3.33333333, 3.66666667, 4.        ])"
            ]
          },
          "metadata": {},
          "execution_count": 91
        }
      ],
      "source": [
        "aaa"
      ]
    },
    {
      "cell_type": "code",
      "execution_count": null,
      "id": "d56d5aa6",
      "metadata": {
        "id": "d56d5aa6"
      },
      "outputs": [],
      "source": [
        "aaa = np.array([[3,3,3],[4,4,4]])"
      ]
    },
    {
      "cell_type": "code",
      "execution_count": null,
      "id": "ec5a666f",
      "metadata": {
        "id": "ec5a666f"
      },
      "outputs": [],
      "source": [
        "ax = aaa.sort(axis = 0)"
      ]
    },
    {
      "cell_type": "code",
      "execution_count": null,
      "id": "af27b861",
      "metadata": {
        "id": "af27b861",
        "colab": {
          "base_uri": "https://localhost:8080/"
        },
        "outputId": "451e5ad7-e28e-4843-d4ef-415cfbdd0cf2"
      },
      "outputs": [
        {
          "output_type": "stream",
          "name": "stdout",
          "text": [
            "None\n"
          ]
        }
      ],
      "source": [
        "print(ax)"
      ]
    },
    {
      "cell_type": "code",
      "execution_count": null,
      "id": "1a7b24c2",
      "metadata": {
        "id": "1a7b24c2",
        "outputId": "45abb134-b78a-4eeb-bf3a-75a77393b900",
        "colab": {
          "base_uri": "https://localhost:8080/"
        }
      },
      "outputs": [
        {
          "output_type": "execute_result",
          "data": {
            "text/plain": [
              "array([[3, 3, 3],\n",
              "       [4, 4, 4]])"
            ]
          },
          "metadata": {},
          "execution_count": 95
        }
      ],
      "source": [
        "aaa"
      ]
    },
    {
      "cell_type": "code",
      "execution_count": null,
      "id": "30d961cd",
      "metadata": {
        "id": "30d961cd",
        "outputId": "75acdc02-8242-4af7-c5ed-83f2d81c392c",
        "colab": {
          "base_uri": "https://localhost:8080/"
        }
      },
      "outputs": [
        {
          "output_type": "execute_result",
          "data": {
            "text/plain": [
              "array([4, 4, 4])"
            ]
          },
          "metadata": {},
          "execution_count": 96
        }
      ],
      "source": [
        "aaa[-1]"
      ]
    },
    {
      "cell_type": "code",
      "execution_count": null,
      "id": "3134f2bc",
      "metadata": {
        "id": "3134f2bc",
        "outputId": "055b44ed-5af2-4574-f378-404f0092fec4",
        "colab": {
          "base_uri": "https://localhost:8080/"
        }
      },
      "outputs": [
        {
          "output_type": "execute_result",
          "data": {
            "text/plain": [
              "array([[4, 4, 4],\n",
              "       [3, 3, 3]])"
            ]
          },
          "metadata": {},
          "execution_count": 97
        }
      ],
      "source": [
        "aaa[::-1]"
      ]
    },
    {
      "cell_type": "code",
      "execution_count": null,
      "id": "e9f77a73",
      "metadata": {
        "id": "e9f77a73",
        "outputId": "6adc78f1-d145-4b1d-a1b8-0d5ac241de1b",
        "colab": {
          "base_uri": "https://localhost:8080/"
        }
      },
      "outputs": [
        {
          "output_type": "execute_result",
          "data": {
            "text/plain": [
              "4.0"
            ]
          },
          "metadata": {},
          "execution_count": 98
        }
      ],
      "source": [
        "np.floor(4.4)"
      ]
    },
    {
      "cell_type": "code",
      "execution_count": null,
      "id": "59ea487f",
      "metadata": {
        "id": "59ea487f",
        "outputId": "cdaa4283-3eb2-4a24-a977-deb61ef05400",
        "colab": {
          "base_uri": "https://localhost:8080/"
        }
      },
      "outputs": [
        {
          "output_type": "execute_result",
          "data": {
            "text/plain": [
              "6.0"
            ]
          },
          "metadata": {},
          "execution_count": 99
        }
      ],
      "source": [
        "np.ceil(5.5)"
      ]
    },
    {
      "cell_type": "code",
      "execution_count": null,
      "id": "ee9e4814",
      "metadata": {
        "id": "ee9e4814",
        "outputId": "413ab580-3d0d-4fa9-c3cc-468d32aaa0ef",
        "colab": {
          "base_uri": "https://localhost:8080/"
        }
      },
      "outputs": [
        {
          "output_type": "execute_result",
          "data": {
            "text/plain": [
              "66.56789"
            ]
          },
          "metadata": {},
          "execution_count": 100
        }
      ],
      "source": [
        "np.abs(66.567890)"
      ]
    }
  ],
  "metadata": {
    "kernelspec": {
      "display_name": "Python 3 (ipykernel)",
      "language": "python",
      "name": "python3"
    },
    "language_info": {
      "codemirror_mode": {
        "name": "ipython",
        "version": 3
      },
      "file_extension": ".py",
      "mimetype": "text/x-python",
      "name": "python",
      "nbconvert_exporter": "python",
      "pygments_lexer": "ipython3",
      "version": "3.7.6"
    },
    "colab": {
      "provenance": [],
      "collapsed_sections": [
        "36f4fc86",
        "f8e80667"
      ]
    }
  },
  "nbformat": 4,
  "nbformat_minor": 5
}